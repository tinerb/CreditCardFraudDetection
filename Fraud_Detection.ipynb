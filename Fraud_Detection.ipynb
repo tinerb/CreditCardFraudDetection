{
 "cells": [
  {
   "cell_type": "code",
   "execution_count": 3,
   "metadata": {},
   "outputs": [],
   "source": [
    "#Imports\n",
    "import pandas as pd\n",
    "import numpy as np\n",
    "import matplotlib.pyplot as plt\n",
    "from sklearn.linear_model import LogisticRegression\n",
    "from sklearn.naive_bayes import GaussianNB\n",
    "from sklearn.ensemble import RandomForestClassifier\n",
    "from sklearn.model_selection import train_test_split\n",
    "from sklearn.metrics import accuracy_score, plot_confusion_matrix, classification_report\n",
    "from sklearn.preprocessing import StandardScaler\n",
    "from sklearn import svm\n",
    "from imblearn.over_sampling import SMOTE\n",
    "\n",
    "#Loading data, getting target and features and labels, Normalizing, removing features based on feature extraction\n",
    "data = pd.read_csv(\"creditcard.csv\")\n",
    "target = data['Class'].to_numpy()\n",
    "target_names = np.unique(target, return_counts=False)\n",
    "data = data.drop(columns =['Class'])\n",
    "scaler = StandardScaler()\n",
    "data = pd.DataFrame(scaler.fit_transform(data), columns=data.columns)\n",
    "data = data.drop(columns =['V2', 'V6', 'V23'])\n",
    "features = data.columns.tolist()\n",
    "\n",
    "#partitioning dataset to 75% training set and 25% test set\n",
    "x_train, x_test, y_train, y_test = train_test_split(data[features], target, test_size=0.25, stratify=target, random_state=123456)\n",
    "\n",
    "#SMOTE oversampling\n",
    "os = SMOTE(random_state=0)\n",
    "os_data_x,os_data_y=os.fit_sample(x_train, y_train)\n",
    "x_train = pd.DataFrame(data=os_data_x,columns= data.columns)\n",
    "y_train= pd.DataFrame(data=os_data_y,columns=['Class'])\n"
   ]
  },
  {
   "cell_type": "code",
   "execution_count": 4,
   "metadata": {},
   "outputs": [
    {
     "name": "stderr",
     "output_type": "stream",
     "text": [
      "<ipython-input-4-fd0bc681dbdd>:3: DataConversionWarning: A column-vector y was passed when a 1d array was expected. Please change the shape of y to (n_samples,), for example using ravel().\n",
      "  rf.fit(x_train, y_train)\n"
     ]
    },
    {
     "data": {
      "text/plain": [
       "RandomForestClassifier(oob_score=True, random_state=123456)"
      ]
     },
     "execution_count": 4,
     "metadata": {},
     "output_type": "execute_result"
    }
   ],
   "source": [
    "#Building and fitting random forest classifier\n",
    "rf = RandomForestClassifier(n_estimators=100, oob_score=True, random_state=123456)\n",
    "rf.fit(x_train, y_train)"
   ]
  },
  {
   "cell_type": "code",
   "execution_count": 5,
   "metadata": {},
   "outputs": [
    {
     "name": "stdout",
     "output_type": "stream",
     "text": [
      "Mean accuracy score: 1.0\n",
      "              precision    recall  f1-score   support\n",
      "\n",
      "           0       1.00      1.00      1.00     71079\n",
      "           1       0.93      0.79      0.85       123\n",
      "\n",
      "    accuracy                           1.00     71202\n",
      "   macro avg       0.97      0.89      0.93     71202\n",
      "weighted avg       1.00      1.00      1.00     71202\n",
      "\n"
     ]
    },
    {
     "data": {
      "image/png": "[encoded data removed]",
      "text/plain": [
       "<Figure size 432x288 with 2 Axes>"
      ]
     },
     "metadata": {
      "needs_background": "light"
     },
     "output_type": "display_data"
    }
   ],
   "source": [
    "#Getting prediction results and accuracy for Random Forest\n",
    "predicted = rf.predict(x_test)\n",
    "accuracy = accuracy_score(y_test, predicted)\n",
    "print(f'Mean accuracy score: {accuracy:.3}')\n",
    "print(classification_report(y_test, predicted))\n",
    "#Displaying results in confusion matrix of Random Forest\n",
    "disp = plot_confusion_matrix(rf, x_test, y_test, display_labels=target_names)\n",
    "plt.show()"
   ]
  },
  {
   "cell_type": "code",
   "execution_count": 6,
   "metadata": {},
   "outputs": [
    {
     "name": "stderr",
     "output_type": "stream",
     "text": [
      "C:\\Users\\Brian\\anaconda3\\lib\\site-packages\\sklearn\\utils\\validation.py:73: DataConversionWarning: A column-vector y was passed when a 1d array was expected. Please change the shape of y to (n_samples, ), for example using ravel().\n",
      "  return f(**kwargs)\n"
     ]
    },
    {
     "data": {
      "text/plain": [
       "GaussianNB()"
      ]
     },
     "execution_count": 6,
     "metadata": {},
     "output_type": "execute_result"
    }
   ],
   "source": [
    "#Building and fitting Naive Bayes classifier\n",
    "gnb = GaussianNB()\n",
    "gnb.fit(x_train, y_train)"
   ]
  },
  {
   "cell_type": "code",
   "execution_count": 7,
   "metadata": {},
   "outputs": [
    {
     "name": "stdout",
     "output_type": "stream",
     "text": [
      "Mean accuracy score: 0.979\n",
      "              precision    recall  f1-score   support\n",
      "\n",
      "           0       1.00      0.98      0.99     71079\n",
      "           1       0.07      0.85      0.12       123\n",
      "\n",
      "    accuracy                           0.98     71202\n",
      "   macro avg       0.53      0.92      0.56     71202\n",
      "weighted avg       1.00      0.98      0.99     71202\n",
      "\n"
     ]
    },
    {
     "data": {
      "image/png": "[encoded data removed]",
      "text/plain": [
       "<Figure size 432x288 with 2 Axes>"
      ]
     },
     "metadata": {
      "needs_background": "light"
     },
     "output_type": "display_data"
    }
   ],
   "source": [
    "#Getting prediction results and accuracy for Naive Bayes\n",
    "predicted = gnb.predict(x_test)\n",
    "accuracy = accuracy_score(y_test, predicted)\n",
    "print(f'Mean accuracy score: {accuracy:.3}')\n",
    "print(classification_report(y_test, predicted))\n",
    "#Displaying results in confusion matrix of Naive Bayes\n",
    "disp = plot_confusion_matrix(gnb, x_test, y_test, display_labels=target_names)\n",
    "#plt.show()"
   ]
  },
  {
   "cell_type": "code",
   "execution_count": 36,
   "metadata": {},
   "outputs": [
    {
     "name": "stderr",
     "output_type": "stream",
     "text": [
      "C:\\Users\\Brian\\anaconda3\\lib\\site-packages\\sklearn\\utils\\validation.py:73: DataConversionWarning: A column-vector y was passed when a 1d array was expected. Please change the shape of y to (n_samples, ), for example using ravel().\n",
      "  return f(**kwargs)\n"
     ]
    },
    {
     "data": {
      "text/plain": [
       "LogisticRegression(max_iter=1000)"
      ]
     },
     "execution_count": 36,
     "metadata": {},
     "output_type": "execute_result"
    }
   ],
   "source": [
    "#Building and fitting Logistic Regression model\n",
    "lr = LogisticRegression(max_iter = 1000)\n",
    "lr.fit(x_train, y_train)"
   ]
  },
  {
   "cell_type": "code",
   "execution_count": 37,
   "metadata": {},
   "outputs": [
    {
     "name": "stdout",
     "output_type": "stream",
     "text": [
      "Mean accuracy score: 0.976\n",
      "              precision    recall  f1-score   support\n",
      "\n",
      "           0       1.00      0.98      0.99     71079\n",
      "           1       0.06      0.89      0.11       123\n",
      "\n",
      "    accuracy                           0.98     71202\n",
      "   macro avg       0.53      0.93      0.55     71202\n",
      "weighted avg       1.00      0.98      0.99     71202\n",
      "\n"
     ]
    },
    {
     "data": {
      "image/png": "[encoded data removed]",
      "text/plain": [
       "<Figure size 432x288 with 2 Axes>"
      ]
     },
     "metadata": {
      "needs_background": "light"
     },
     "output_type": "display_data"
    }
   ],
   "source": [
    "#Getting prediction results and accuracy for Logistic Regression\n",
    "predicted = lr.predict(x_test)\n",
    "accuracy = accuracy_score(y_test, predicted)\n",
    "print(f'Mean accuracy score: {accuracy:.3}')\n",
    "print(classification_report(y_test, predicted))\n",
    "#Displaying results in confusion matrix of Logistic Regression\n",
    "disp = plot_confusion_matrix(lr, x_test, y_test, display_labels=target_names)\n",
    "plt.show()"
   ]
  },
  {
   "cell_type": "code",
   "execution_count": 38,
   "metadata": {},
   "outputs": [
    {
     "name": "stderr",
     "output_type": "stream",
     "text": [
      "C:\\Users\\Brian\\anaconda3\\lib\\site-packages\\sklearn\\utils\\validation.py:73: DataConversionWarning: A column-vector y was passed when a 1d array was expected. Please change the shape of y to (n_samples, ), for example using ravel().\n",
      "  return f(**kwargs)\n"
     ]
    },
    {
     "data": {
      "text/plain": [
       "SVC(kernel='linear')"
      ]
     },
     "execution_count": 38,
     "metadata": {},
     "output_type": "execute_result"
    }
   ],
   "source": [
    "#Building and fitting Support Vector Machine\n",
    "sv = svm.SVC(kernel='linear')\n",
    "sv.fit(x_train, y_train)"
   ]
  },
  {
   "cell_type": "code",
   "execution_count": 39,
   "metadata": {},
   "outputs": [
    {
     "name": "stdout",
     "output_type": "stream",
     "text": [
      "Mean accuracy score: 0.975\n",
      "              precision    recall  f1-score   support\n",
      "\n",
      "           0       1.00      0.97      0.99     71079\n",
      "           1       0.06      0.89      0.11       123\n",
      "\n",
      "    accuracy                           0.97     71202\n",
      "   macro avg       0.53      0.93      0.55     71202\n",
      "weighted avg       1.00      0.97      0.99     71202\n",
      "\n"
     ]
    },
    {
     "data": {
      "image/png": "[encoded data removed]",
      "text/plain": [
       "<Figure size 432x288 with 2 Axes>"
      ]
     },
     "metadata": {
      "needs_background": "light"
     },
     "output_type": "display_data"
    }
   ],
   "source": [
    "#Getting prediction results and accuracy for Support Vector Machine\n",
    "predicted = sv.predict(x_test)\n",
    "accuracy = accuracy_score(y_test, predicted)\n",
    "print(f'Mean accuracy score: {accuracy:.3}')\n",
    "print(classification_report(y_test, predicted))\n",
    "#Displaying results in confusion matrix of Support Vector Machine\n",
    "disp = plot_confusion_matrix(sv, x_test, y_test, display_labels=target_names)\n",
    "plt.show()"
   ]
  },
  {
   "cell_type": "code",
   "execution_count": null,
   "metadata": {},
   "outputs": [],
   "source": []
  }
 ],
 "metadata": {
  "kernelspec": {
   "display_name": "Python 3",
   "language": "python",
   "name": "python3"
  },
  "language_info": {
   "codemirror_mode": {
    "name": "ipython",
    "version": 3
   },
   "file_extension": ".py",
   "mimetype": "text/x-python",
   "name": "python",
   "nbconvert_exporter": "python",
   "pygments_lexer": "ipython3",
   "version": "3.8.3"
  }
 },
 "nbformat": 4,
 "nbformat_minor": 4
}
