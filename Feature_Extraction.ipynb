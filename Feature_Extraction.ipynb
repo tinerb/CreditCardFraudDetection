{
 "cells": [
  {
   "cell_type": "code",
   "execution_count": 100,
   "metadata": {},
   "outputs": [
    {
     "name": "stdout",
     "output_type": "stream",
     "text": [
      "Iteration: 1\n",
      "Training Gradient Boosting Model\n",
      "\n",
      "Training until validation scores don't improve for 100 rounds\n",
      "Early stopping, best iteration is:\n",
      "[1]\tvalid_0's auc: 0.828874\tvalid_0's binary_logloss: 0.00736001\n",
      "Training until validation scores don't improve for 100 rounds\n",
      "Early stopping, best iteration is:\n",
      "[1]\tvalid_0's auc: 0.930997\tvalid_0's binary_logloss: 0.00540095\n",
      "Training until validation scores don't improve for 100 rounds\n",
      "Early stopping, best iteration is:\n",
      "[1]\tvalid_0's auc: 0.877044\tvalid_0's binary_logloss: 0.00629309\n",
      "Training until validation scores don't improve for 100 rounds\n",
      "Early stopping, best iteration is:\n",
      "[1]\tvalid_0's auc: 0.887639\tvalid_0's binary_logloss: 0.00623618\n",
      "Training until validation scores don't improve for 100 rounds\n",
      "Early stopping, best iteration is:\n",
      "[1]\tvalid_0's auc: 0.915829\tvalid_0's binary_logloss: 0.00628118\n",
      "Training until validation scores don't improve for 100 rounds\n",
      "Early stopping, best iteration is:\n",
      "[1]\tvalid_0's auc: 0.887344\tvalid_0's binary_logloss: 0.00792191\n",
      "Training until validation scores don't improve for 100 rounds\n",
      "Early stopping, best iteration is:\n",
      "[1]\tvalid_0's auc: 0.936145\tvalid_0's binary_logloss: 0.00631953\n",
      "Training until validation scores don't improve for 100 rounds\n",
      "Early stopping, best iteration is:\n",
      "[148]\tvalid_0's auc: 0.978913\tvalid_0's binary_logloss: 0.00505701\n",
      "Training until validation scores don't improve for 100 rounds\n",
      "Early stopping, best iteration is:\n",
      "[44]\tvalid_0's auc: 0.971591\tvalid_0's binary_logloss: 0.00479711\n",
      "Training until validation scores don't improve for 100 rounds\n",
      "Early stopping, best iteration is:\n",
      "[1]\tvalid_0's auc: 0.935291\tvalid_0's binary_logloss: 0.00822434\n",
      "\n",
      "0 features with zero importance after one-hot encoding.\n",
      "\n",
      "27 features required for cumulative importance of 0.95 after one hot encoding.\n",
      "3 features do not contribute to cumulative importance of 0.95.\n",
      "\n",
      "V9 : 1\n",
      "V2 : 1\n",
      "V20 : 1\n",
      "\n",
      "\n",
      "V9 : 1.0\n",
      "V2 : 1.0\n",
      "V20 : 1.0\n"
     ]
    }
   ],
   "source": [
    "#Imports\n",
    "import pandas as pd\n",
    "from feature_selector import FeatureSelector\n",
    "\n",
    "#Loading dataset and gettling labels and features\n",
    "data = pd.read_csv(\"creditcard.csv\")\n",
    "data_labels = data['Class']\n",
    "data_features = data.drop(columns = ['Class'])\n",
    "\n",
    "#Constructing feature selector for data preprocessing\n",
    "#Method is inconsistent, change loop range for # of tests, change cumulative_importance for importance percentage\n",
    "#TAKES LONG TO RUN MULTIPLE TIMES\n",
    "fs = FeatureSelector(data = data_features, labels = data_labels)\n",
    "avg = []\n",
    "result = []\n",
    "count = []\n",
    "counter = 0\n",
    "\n",
    "for i in range(100):\n",
    "    print(\"Iteration:\", (i + 1))\n",
    "    fs.identify_zero_importance(task = 'classification', eval_metric = 'auc', n_iterations = 10, early_stopping = True)\n",
    "    fs.identify_low_importance(cumulative_importance = 0.95)\n",
    "    low_importance_features = fs.ops['low_importance']\n",
    "    for j in low_importance_features:\n",
    "        if j in result:\n",
    "            count[result.index(j)] += 1\n",
    "        else:\n",
    "            result.append(j)\n",
    "            count.append(1)\n",
    "    counter += 1\n",
    "    #Printing results\n",
    "    for j in range(len(result)):\n",
    "        print(result[j], \":\", count[j])\n",
    "       \n",
    "print(\"\\n\")\n",
    "for i in range(len(result)):\n",
    "    avg.append(count[i]/counter)\n",
    "    print(result[i], \":\", avg[i])"
   ]
  },
  {
   "cell_type": "code",
   "execution_count": null,
   "metadata": {},
   "outputs": [],
   "source": []
  },
  {
   "cell_type": "code",
   "execution_count": null,
   "metadata": {},
   "outputs": [],
   "source": []
  }
 ],
 "metadata": {
  "kernelspec": {
   "display_name": "Python 3",
   "language": "python",
   "name": "python3"
  },
  "language_info": {
   "codemirror_mode": {
    "name": "ipython",
    "version": 3
   },
   "file_extension": ".py",
   "mimetype": "text/x-python",
   "name": "python",
   "nbconvert_exporter": "python",
   "pygments_lexer": "ipython3",
   "version": "3.8.3"
  }
 },
 "nbformat": 4,
 "nbformat_minor": 4
}
